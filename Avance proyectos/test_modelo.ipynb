{
 "cells": [
  {
   "cell_type": "code",
   "execution_count": 1,
   "metadata": {},
   "outputs": [
    {
     "name": "stderr",
     "output_type": "stream",
     "text": [
      "c:\\Users\\ldani\\Documents\\Patronus\\Project\\venv\\Lib\\site-packages\\tqdm\\auto.py:21: TqdmWarning: IProgress not found. Please update jupyter and ipywidgets. See https://ipywidgets.readthedocs.io/en/stable/user_install.html\n",
      "  from .autonotebook import tqdm as notebook_tqdm\n"
     ]
    }
   ],
   "source": [
    "import pandas as pd\n",
    "import seaborn as sns\n",
    "import matplotlib.pyplot as plt\n",
    "import numpy as np\n",
    "from sklearn.preprocessing import StandardScaler, OneHotEncoder\n",
    "from sklearn.compose import ColumnTransformer\n",
    "from sklearn.pipeline import Pipeline\n",
    "from sklearn.model_selection import train_test_split, cross_val_score\n",
    "from autogluon.tabular import TabularPredictor, TabularDataset\n",
    "from sklearn.metrics import mean_squared_error, make_scorer"
   ]
  },
  {
   "cell_type": "code",
   "execution_count": 2,
   "metadata": {},
   "outputs": [],
   "source": [
    "predictor = TabularPredictor.load(rf\"C:\\Users\\ldani\\Documents\\Patronus\\Project\\AutogluonModels\\ag-20240612_190315\")"
   ]
  },
  {
   "cell_type": "code",
   "execution_count": 11,
   "metadata": {},
   "outputs": [
    {
     "name": "stdout",
     "output_type": "stream",
     "text": [
      "   Time [s]  Pressure [cmH2O]  Flow [L/s]  V_tidal [L]  Inspiratory Indicies  \\\n",
      "0      0.00          2.649814   -0.681264     0.000000                   130   \n",
      "1      0.01          2.617630   -0.626598    -0.006539                   501   \n",
      "2      0.02          2.681998   -0.626598    -0.012805                   897   \n",
      "3      0.03          2.563990   -0.626598    -0.019071                  1270   \n",
      "4      0.04          2.649814   -0.626598    -0.025337                  1627   \n",
      "\n",
      "   Weight [kg]  \n",
      "0           95  \n",
      "1            0  \n",
      "2            0  \n",
      "3            0  \n",
      "4            0  \n",
      "Index(['Time [s]', 'Pressure [cmH2O]', 'Flow [L/s]', 'V_tidal [L]',\n",
      "       'Inspiratory Indicies', 'Weight [kg]'],\n",
      "      dtype='object')\n"
     ]
    }
   ],
   "source": [
    "# Cargar el archivo CSV\n",
    "file_path = r'C:\\Users\\ldani\\Documents\\Patronus\\Project\\simulated-obstructive-disease-respiratory-pressure-and-flow-1.0.0\\PQ_ProcessedData\\ProcessedCOPD_Subject09_0cmH2O_0mL.csv'  # Ajusta la ruta según tu entorno\n",
    "df = pd.read_csv(file_path)\n",
    "\n",
    "# Mostrar las primeras filas del dataframe para entender su estructura\n",
    "print(df.head())\n",
    "\n",
    "print(df.columns)"
   ]
  },
  {
   "cell_type": "code",
   "execution_count": 12,
   "metadata": {},
   "outputs": [
    {
     "name": "stdout",
     "output_type": "stream",
     "text": [
      "Index(['Time [s]', 'Pressure [cmH2O]', 'Flow [L/s]', 'V_tidal [L]',\n",
      "       'Inspiratory Indicies', 'Weight [kg]'],\n",
      "      dtype='object')\n"
     ]
    }
   ],
   "source": [
    "# Eliminar espacios en blanco adicionales en los nombres de las columnas\n",
    "df.columns = df.columns.str.strip()\n",
    "\n",
    "# Verificar nuevamente los nombres de las columnas después de limpiarlos\n",
    "print(df.columns)"
   ]
  },
  {
   "cell_type": "code",
   "execution_count": 13,
   "metadata": {},
   "outputs": [],
   "source": [
    "# Definir los valores para las nuevas columnas\n",
    "peep = 0\n",
    "age = 23\n",
    "gender = 'Female'\n",
    "height_cm = 175\n",
    "weight_kg = 60\n",
    "history_of_smoking = 'No'\n",
    "smoking_frequency = 'N/A'\n",
    "history_of_vaping = 'Yes'\n",
    "frequency_of_vaping = 'More than once a day'\n",
    "#heart_condition = 'No'\n",
    "asthma = 'Yes - Moderate'\n",
    "\n",
    "# Agregar las nuevas columnas al DataFrame y rellenarlas con el valor especificado\n",
    "df['PEEP'] = peep\n",
    "df['Weight [kg]'] = weight_kg\n",
    "df['Age'] = age\n",
    "df['Gender'] = gender\n",
    "df['Height [cm]'] = height_cm\n",
    "df['History of Smoking (yes/no)'] = history_of_smoking\n",
    "df['Smoking Frequency'] = smoking_frequency\n",
    "df['History of vaping (yes/no)'] = history_of_vaping\n",
    "df['Frequency of vaping'] = frequency_of_vaping\n",
    "#df['Heart condition (yes/no)'] = heart_condition\n",
    "df['Asthma (yes/no and severity)'] = asthma\n"
   ]
  },
  {
   "cell_type": "code",
   "execution_count": 14,
   "metadata": {},
   "outputs": [
    {
     "name": "stdout",
     "output_type": "stream",
     "text": [
      "   Time [s]  Pressure [cmH2O]  Flow [L/s]  V_tidal [L]  Weight [kg]  PEEP  \\\n",
      "0      0.00          2.649814   -0.681264     0.000000           60     0   \n",
      "1      0.01          2.617630   -0.626598    -0.006539           60     0   \n",
      "2      0.02          2.681998   -0.626598    -0.012805           60     0   \n",
      "3      0.03          2.563990   -0.626598    -0.019071           60     0   \n",
      "4      0.04          2.649814   -0.626598    -0.025337           60     0   \n",
      "\n",
      "   Age  Gender  Height [cm] History of Smoking (yes/no)  \\\n",
      "0   23  Female          175                          No   \n",
      "1   23  Female          175                          No   \n",
      "2   23  Female          175                          No   \n",
      "3   23  Female          175                          No   \n",
      "4   23  Female          175                          No   \n",
      "\n",
      "  History of vaping (yes/no) Asthma (yes/no and severity)  \n",
      "0                        Yes               Yes - Moderate  \n",
      "1                        Yes               Yes - Moderate  \n",
      "2                        Yes               Yes - Moderate  \n",
      "3                        Yes               Yes - Moderate  \n",
      "4                        Yes               Yes - Moderate  \n"
     ]
    }
   ],
   "source": [
    "# Eliminar las columnas con valores faltantes\n",
    "df = df.drop(columns=['Inspiratory Indicies', 'Smoking Frequency', 'Frequency of vaping'])\n",
    "\n",
    "# Mostrar las primeras filas del dataframe para verificar los cambios\n",
    "print(df.head())"
   ]
  },
  {
   "cell_type": "code",
   "execution_count": 15,
   "metadata": {},
   "outputs": [],
   "source": [
    "# Obtener las columnas esperadas por el modelo\n",
    "expected_columns = predictor.feature_metadata_in.get_features()\n",
    "\n",
    "# Crear un DataFrame con las columnas necesarias y rellenar con ceros\n",
    "complete_df = pd.DataFrame(0, index=df.index, columns=expected_columns)\n",
    "\n",
    "# Rellenar el DataFrame con los datos existentes\n",
    "for col in df.columns:\n",
    "    if col in complete_df.columns:\n",
    "        complete_df[col] = df[col]"
   ]
  },
  {
   "cell_type": "code",
   "execution_count": 16,
   "metadata": {},
   "outputs": [
    {
     "data": {
      "text/plain": [
       "0       239.628433\n",
       "1       239.628433\n",
       "2       239.628433\n",
       "3       239.628433\n",
       "4       239.628433\n",
       "           ...    \n",
       "4357    239.628433\n",
       "4358    239.628433\n",
       "4359    239.628433\n",
       "4360    239.628433\n",
       "4361    239.628433\n",
       "Name: Predicted_COPD, Length: 4362, dtype: float32"
      ]
     },
     "execution_count": 16,
     "metadata": {},
     "output_type": "execute_result"
    }
   ],
   "source": [
    "# Hacer predicciones en el conjunto de prueba\n",
    "test_data = TabularDataset(complete_df)\n",
    "predictions = predictor.predict(test_data)\n",
    "\n",
    "# Agregar las predicciones al dataframe de prueba para verlas en contexto\n",
    "df['Predicted_COPD'] = predictions\n",
    "\n",
    "# Mostrar las primeras filas del dataframe con las predicciones\n",
    "df['Predicted_COPD']\n",
    "#print(df.head())"
   ]
  },
  {
   "cell_type": "markdown",
   "metadata": {},
   "source": [
    "#Código anterior"
   ]
  },
  {
   "cell_type": "code",
   "execution_count": null,
   "metadata": {},
   "outputs": [],
   "source": [
    "# Preprocesar los datos\n",
    "df_transformed = preprocessor.fit_transform(df)\n",
    "\n",
    "# Convertir a DataFrame\n",
    "df_transformed = pd.DataFrame(df_transformed, columns=numerical_features + list(preprocessor.named_transformers_['cat'].get_feature_names_out()))\n"
   ]
  },
  {
   "cell_type": "code",
   "execution_count": null,
   "metadata": {},
   "outputs": [],
   "source": [
    "# Convertir columnas categóricas a numéricas usando OneHotEncoder\n",
    "categorical_features = ['Gender', 'History of Smoking (yes/no)', 'History of vaping (yes/no)', 'Asthma (yes/no and severity)']\n",
    "numerical_features = ['Age', 'Height [cm]', 'Weight [kg]', 'PEEP', 'Time [s]', 'Pressure [cmH2O]', 'Flow [L/s]', 'V_tidal [L]']\n",
    "\n",
    "# Crear el transformador de columnas\n",
    "preprocessor = ColumnTransformer(\n",
    "    transformers=[\n",
    "        ('num', StandardScaler(), numerical_features),\n",
    "        ('cat', OneHotEncoder(handle_unknown='ignore'), categorical_features)\n",
    "    ])"
   ]
  }
 ],
 "metadata": {
  "kernelspec": {
   "display_name": "venv",
   "language": "python",
   "name": "python3"
  },
  "language_info": {
   "codemirror_mode": {
    "name": "ipython",
    "version": 3
   },
   "file_extension": ".py",
   "mimetype": "text/x-python",
   "name": "python",
   "nbconvert_exporter": "python",
   "pygments_lexer": "ipython3",
   "version": "3.11.5"
  }
 },
 "nbformat": 4,
 "nbformat_minor": 2
}
