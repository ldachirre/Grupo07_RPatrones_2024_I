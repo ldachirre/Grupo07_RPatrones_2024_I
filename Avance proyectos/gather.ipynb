{
 "cells": [
  {
   "cell_type": "code",
   "execution_count": 22,
   "metadata": {},
   "outputs": [],
   "source": [
    "#Código a implementar para la unión de datasets en uno solo\n",
    "import pandas as pd\n",
    "\n",
    "# To avoid warnings\n",
    "import warnings\n",
    "warnings.filterwarnings(\"ignore\")"
   ]
  },
  {
   "cell_type": "code",
   "execution_count": 23,
   "metadata": {},
   "outputs": [
    {
     "name": "stdout",
     "output_type": "stream",
     "text": [
      "Index(['Subject Number', 'Age', 'Gender', 'Height [cm]',\n",
      "       'History of Smoking (yes/no)', 'Smoking Frequency',\n",
      "       'History of vaping (yes/no)', 'Frequency of vaping',\n",
      "       'Heart condition (yes/no)', 'Asthma (yes/no and severity)',\n",
      "       'Unnamed: 10', 'Unnamed: 11'],\n",
      "      dtype='object')\n"
     ]
    }
   ],
   "source": [
    "\n",
    "# Load the demographic data\n",
    "demographics_df = pd.read_csv(r'C:\\Users\\ldani\\Documents\\Patronus\\Project\\simulated-obstructive-disease-respiratory-pressure-and-flow-1.0.0/COPD_Demographic.csv', delimiter=';')\n",
    "\n",
    "# Ensure 'Subject Number' column is present\n",
    "print(demographics_df.columns)"
   ]
  },
  {
   "cell_type": "code",
   "execution_count": 35,
   "metadata": {},
   "outputs": [],
   "source": [
    "\n",
    "def load_merge_and_save_datasets(subject_id, peep, copd, demographics_df):\n",
    "    # Format subject ID to match filename pattern (e.g., \"01\", \"02\", ...)\n",
    "    formatted_subject_id = f'{subject_id:02d}'\n",
    "    \n",
    "    # Construct the filename for the current dataset\n",
    "    filename = rf'C:\\Users\\ldani\\Documents\\Patronus\\Project\\simulated-obstructive-disease-respiratory-pressure-and-flow-1.0.0\\PQ_ProcessedData\\ProcessedCOPD_Subject{formatted_subject_id}_{peep}cmH2O_{copd}mL.csv'\n",
    "    \n",
    "    # Load the dataset\n",
    "    data_df = pd.read_csv(filename)\n",
    "    \n",
    "    # Extract demographic information for the current subject\n",
    "    demographics_info = demographics_df[demographics_df['Subject Number'] == subject_id].iloc[0]\n",
    "    \n",
    "    # Add demographic columns to the data\n",
    "    for col in demographics_info.index:\n",
    "        data_df[col] = demographics_info[col]\n",
    "    \n",
    "    # Save the modified dataset back to a new file\n",
    "    output_filename = rf'C:\\Users\\ldani\\Documents\\Patronus\\Project\\simulated-obstructive-disease-respiratory-pressure-and-flow-1.0.0\\PQ_ProcessedData\\Merged_Subject{formatted_subject_id}_{peep}cmH2O_{copd}mL.csv'\n",
    "    data_df.to_csv(output_filename, index=False)"
   ]
  },
  {
   "cell_type": "code",
   "execution_count": 37,
   "metadata": {},
   "outputs": [],
   "source": [
    "subjects = range(1, 21)  # Assuming 20 subjects\n",
    "peep_levels = [0, 4, 8]\n",
    "copd_levels = [0, 200, 250, 300]\n",
    "\n",
    "for subject in subjects:\n",
    "    for peep in peep_levels:\n",
    "        for copd in copd_levels:\n",
    "            load_merge_and_save_datasets(subject, peep, copd, demographics_df)"
   ]
  },
  {
   "cell_type": "code",
   "execution_count": 42,
   "metadata": {},
   "outputs": [
    {
     "name": "stdout",
     "output_type": "stream",
     "text": [
      "(1017755, 1)\n",
      "  Time [s],Pressure [cmH2O],Flow [L/s],V_tidal [L],Inspiratory Indicies,Weight [kg],Subject Number,Age,Gender,Height [cm],History of Smoking (yes/no),Smoking Frequency,History of vaping (yes/no),Frequency of vaping,Heart condition (yes/no),Asthma (yes/no and severity),Unnamed: 10,Unnamed: 11\n",
      "0  0,2.681997598,-0.577100147,0,88,65,1,24,Female...                                                                                                                                                                                                                                                \n",
      "1  0.01,2.617629656,-0.59739153,-0.005872458,477,...                                                                                                                                                                                                                                                \n",
      "2  0.02,2.681997598,-0.59739153,-0.011846374,830,...                                                                                                                                                                                                                                                \n",
      "3  0.03,2.617629656,-0.626597742,-0.01796632,1156...                                                                                                                                                                                                                                                \n",
      "4  0.04,2.649813627,-0.626597742,-0.024232297,148...                                                                                                                                                                                                                                                \n"
     ]
    }
   ],
   "source": [
    "import pandas as pd\n",
    "import os\n",
    "import glob\n",
    "\n",
    "# Path to the directory containing the CSV files\n",
    "directory_path = r'C:\\Users\\ldani\\Documents\\Patronus\\Project\\simulated-obstructive-disease-respiratory-pressure-and-flow-1.0.0\\merged_data'\n",
    "\n",
    "# List all CSV files in the directory\n",
    "csv_files = glob.glob(os.path.join(directory_path, '*.csv'))\n",
    "\n",
    "# Initialize an empty list to store individual DataFrames\n",
    "dataframes = []\n",
    "\n",
    "# Iterate through the list of CSV files and read each one into a DataFrame\n",
    "for csv_file in csv_files:\n",
    "    df = pd.read_csv(csv_file, delimiter=';')\n",
    "    \n",
    "    # Replace zeros in the \"Weight [kg]\" column with the correct value\n",
    "    weight_column = 'Weight [kg]'\n",
    "    if weight_column in df.columns:\n",
    "        non_zero_weight = df[weight_column].replace(0, pd.NA).dropna().iloc[0]\n",
    "        df[weight_column] = df[weight_column].replace(0, non_zero_weight)\n",
    "    \n",
    "    # Append the cleaned DataFrame to the list\n",
    "    dataframes.append(df)\n",
    "\n",
    "# Concatenate all DataFrames into a single DataFrame\n",
    "merged_df = pd.concat(dataframes, axis=0, ignore_index=True)\n",
    "\n",
    "# Display the shape of the merged DataFrame to confirm concatenation\n",
    "print(merged_df.shape)\n",
    "\n",
    "# Optionally, save the merged DataFrame to a new CSV file\n",
    "output_path = r'C:\\Users\\ldani\\Documents\\Patronus\\Project\\simulated-obstructive-disease-respiratory-pressure-and-flow-1.0.0\\merged_data\\merged_dataset.csv'\n",
    "merged_df.to_csv(output_path, index=False, sep=';')\n",
    "\n",
    "# Display the first few rows of the merged DataFrame to verify\n",
    "print(merged_df.head())\n"
   ]
  }
 ],
 "metadata": {
  "kernelspec": {
   "display_name": "venv",
   "language": "python",
   "name": "python3"
  },
  "language_info": {
   "codemirror_mode": {
    "name": "ipython",
    "version": 3
   },
   "file_extension": ".py",
   "mimetype": "text/x-python",
   "name": "python",
   "nbconvert_exporter": "python",
   "pygments_lexer": "ipython3",
   "version": "3.11.5"
  }
 },
 "nbformat": 4,
 "nbformat_minor": 2
}
