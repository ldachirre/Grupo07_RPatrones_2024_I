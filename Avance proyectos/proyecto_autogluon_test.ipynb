{
 "cells": [
  {
   "cell_type": "code",
   "execution_count": 1,
   "metadata": {},
   "outputs": [
    {
     "name": "stderr",
     "output_type": "stream",
     "text": [
      "c:\\Users\\ldani\\Documents\\Patronus\\Project\\venv\\Lib\\site-packages\\tqdm\\auto.py:21: TqdmWarning: IProgress not found. Please update jupyter and ipywidgets. See https://ipywidgets.readthedocs.io/en/stable/user_install.html\n",
      "  from .autonotebook import tqdm as notebook_tqdm\n"
     ]
    }
   ],
   "source": [
    "import pandas as pd\n",
    "import seaborn as sns\n",
    "import matplotlib.pyplot as plt\n",
    "import numpy as np\n",
    "from sklearn.preprocessing import StandardScaler, OneHotEncoder\n",
    "from sklearn.compose import ColumnTransformer\n",
    "from sklearn.pipeline import Pipeline\n",
    "from sklearn.model_selection import train_test_split, cross_val_score\n",
    "from autogluon.tabular import TabularPredictor, TabularDataset\n",
    "from sklearn.metrics import mean_squared_error, make_scorer"
   ]
  },
  {
   "cell_type": "code",
   "execution_count": 2,
   "metadata": {},
   "outputs": [
    {
     "name": "stdout",
     "output_type": "stream",
     "text": [
      "   Subject Number  Age  Gender Height [cm]  Weight [kg]  PEEP  COPD  Time [s]  \\\n",
      "0               1   24  Female     160-169           65     0     0      0.00   \n",
      "1               1   24  Female     160-169           65     0     0      0.01   \n",
      "2               1   24  Female     160-169           65     0     0      0.02   \n",
      "3               1   24  Female     160-169           65     0     0      0.03   \n",
      "4               1   24  Female     160-169           65     0     0      0.04   \n",
      "\n",
      "   Pressure [cmH2O]  Flow [L/s]  V_tidal [L] History of Smoking (yes/no)  \\\n",
      "0          2.681998   -0.577100     0.000000                          No   \n",
      "1          2.617630   -0.597392    -0.005872                          No   \n",
      "2          2.681998   -0.597392    -0.011846                          No   \n",
      "3          2.617630   -0.626598    -0.017966                          No   \n",
      "4          2.649814   -0.626598    -0.024232                          No   \n",
      "\n",
      "  Smoking Frequency History of vaping (yes/no) Frequency of vaping  \\\n",
      "0               NaN                         No                 NaN   \n",
      "1               NaN                         No                 NaN   \n",
      "2               NaN                         No                 NaN   \n",
      "3               NaN                         No                 NaN   \n",
      "4               NaN                         No                 NaN   \n",
      "\n",
      "  Asthma (yes/no and severity)  \n",
      "0                          No   \n",
      "1                          No   \n",
      "2                          No   \n",
      "3                          No   \n",
      "4                          No   \n"
     ]
    },
    {
     "name": "stderr",
     "output_type": "stream",
     "text": [
      "C:\\Users\\ldani\\AppData\\Local\\Temp\\ipykernel_18968\\3515674061.py:3: DtypeWarning: Columns (12,14) have mixed types. Specify dtype option on import or set low_memory=False.\n",
      "  df = pd.read_csv(file_path, sep=';')\n"
     ]
    }
   ],
   "source": [
    "# Cargar el archivo CSV\n",
    "file_path = r'C:\\Users\\ldani\\Documents\\Patronus\\Project\\simulated-obstructive-disease-respiratory-pressure-and-flow-1.0.0/merged_dataset_balanced.csv'  # Ajusta la ruta según tu entorno\n",
    "df = pd.read_csv(file_path, sep=';')\n",
    "\n",
    "# Mostrar las primeras filas del dataframe para entender su estructura\n",
    "print(df.head())"
   ]
  },
  {
   "cell_type": "code",
   "execution_count": 3,
   "metadata": {},
   "outputs": [],
   "source": [
    "# Eliminar las columnas con valores faltantes\n",
    "df = df.drop(columns=['Smoking Frequency', 'Frequency of vaping'])"
   ]
  },
  {
   "cell_type": "code",
   "execution_count": 4,
   "metadata": {},
   "outputs": [],
   "source": [
    "# Función para convertir rangos a su valor medio\n",
    "def convert_range_to_mean(value):\n",
    "    if isinstance(value, str) and '-' in value:\n",
    "        start, end = value.split('-')\n",
    "        return (float(start) + float(end)) / 2\n",
    "    return value"
   ]
  },
  {
   "cell_type": "code",
   "execution_count": 5,
   "metadata": {},
   "outputs": [
    {
     "name": "stderr",
     "output_type": "stream",
     "text": [
      "C:\\Users\\ldani\\AppData\\Local\\Temp\\ipykernel_18968\\4247110295.py:3: FutureWarning: DataFrame.applymap has been deprecated. Use DataFrame.map instead.\n",
      "  df[num_cols] = df[num_cols].applymap(convert_range_to_mean)\n"
     ]
    },
    {
     "name": "stdout",
     "output_type": "stream",
     "text": [
      "Subject Number                    int64\n",
      "Age                               int64\n",
      "Gender                           object\n",
      "Height [cm]                     float64\n",
      "Weight [kg]                       int64\n",
      "PEEP                              int64\n",
      "COPD                              int64\n",
      "Time [s]                        float64\n",
      "Pressure [cmH2O]                float64\n",
      "Flow [L/s]                      float64\n",
      "V_tidal [L]                     float64\n",
      "History of Smoking (yes/no)      object\n",
      "History of vaping (yes/no)       object\n",
      "Asthma (yes/no and severity)     object\n",
      "dtype: object\n"
     ]
    }
   ],
   "source": [
    "# Aplicar la función a las columnas numéricas\n",
    "num_cols = ['Height [cm]']\n",
    "df[num_cols] = df[num_cols].applymap(convert_range_to_mean)\n",
    "\n",
    "# Verificar tipos de datos\n",
    "print(df.dtypes)"
   ]
  },
  {
   "cell_type": "code",
   "execution_count": 22,
   "metadata": {},
   "outputs": [
    {
     "name": "stdout",
     "output_type": "stream",
     "text": [
      "[ 2  3 13  7  6]\n"
     ]
    }
   ],
   "source": [
    "#Estratificamos conjunto de datos\n",
    "#Dividimos el conjunto de datos en función del paciente\n",
    "patient_ids = df['Subject Number'].unique()\n",
    "test_patient_ids = np.random.choice(patient_ids, size=5, replace=False)  # Selecciona 5 pacientes para el conjunto de prueba\n",
    "#test_patient_ids = [16, 19, 6, 17, 4]\n",
    "print(test_patient_ids)\n",
    "\n",
    "\n",
    "# Separar datos de prueba y entrenamiento\n",
    "test_df = df[df['Subject Number'].isin(test_patient_ids)]\n",
    "train_df = df[~df['Subject Number'].isin(test_patient_ids)]\n",
    "\n",
    "# Crear conjuntos de características y etiquetas\n",
    "X_train = train_df.drop(columns=['Subject Number', 'COPD'])\n",
    "y_train = train_df['COPD']\n",
    "X_test = test_df.drop(columns=['Subject Number', 'COPD'])\n",
    "y_test = test_df['COPD']"
   ]
  },
  {
   "cell_type": "code",
   "execution_count": 23,
   "metadata": {},
   "outputs": [],
   "source": [
    "# Convertir columnas categóricas a numéricas usando OneHotEncoder\n",
    "categorical_features = ['Gender', 'History of Smoking (yes/no)', 'History of vaping (yes/no)', 'Asthma (yes/no and severity)']\n",
    "numerical_features = ['Age', 'Height [cm]', 'Weight [kg]', 'PEEP', 'Time [s]', 'Pressure [cmH2O]', 'Flow [L/s]', 'V_tidal [L]']\n",
    "\n",
    "# Crear el transformador de columnas\n",
    "preprocessor = ColumnTransformer(\n",
    "    transformers=[\n",
    "        ('num', StandardScaler(), numerical_features),\n",
    "        ('cat', OneHotEncoder(handle_unknown='ignore'), categorical_features)\n",
    "    ])"
   ]
  },
  {
   "cell_type": "code",
   "execution_count": 24,
   "metadata": {},
   "outputs": [],
   "source": [
    "# Preprocesar las características\n",
    "X_train = preprocessor.fit_transform(X_train)\n",
    "X_test = preprocessor.transform(X_test)"
   ]
  },
  {
   "cell_type": "code",
   "execution_count": 25,
   "metadata": {},
   "outputs": [],
   "source": [
    "# Crear un DataFrame combinado para AutoGluon\n",
    "train_data = pd.DataFrame(X_train, columns=preprocessor.get_feature_names_out())\n",
    "train_data['COPD'] = y_train.values\n",
    "test_data = pd.DataFrame(X_test, columns=preprocessor.get_feature_names_out())\n",
    "test_data['COPD'] = y_test.values"
   ]
  },
  {
   "cell_type": "code",
   "execution_count": 10,
   "metadata": {},
   "outputs": [],
   "source": [
    "predictor = TabularPredictor.load(rf\"C:\\Users\\ldani\\Documents\\Patronus\\Project\\AutogluonModels\\ag-20240612_190315\")"
   ]
  },
  {
   "cell_type": "code",
   "execution_count": 26,
   "metadata": {},
   "outputs": [
    {
     "name": "stdout",
     "output_type": "stream",
     "text": [
      "Predictions:\n",
      " 0         152.633804\n",
      "1         134.299210\n",
      "2         191.758133\n",
      "3         194.860260\n",
      "4         198.821762\n",
      "             ...    \n",
      "201595    274.090485\n",
      "201596    273.469727\n",
      "201597    278.556641\n",
      "201598    285.202850\n",
      "201599    285.202850\n",
      "Name: COPD, Length: 201600, dtype: float32\n"
     ]
    }
   ],
   "source": [
    "# Hacer predicciones en el conjunto de prueba\n",
    "predictions = predictor.predict(test_data)\n",
    "print(\"Predictions:\\n\", predictions)\n",
    "\n",
    "# Agregar las predicciones al dataframe de prueba para verlas en contexto\n",
    "test_data['Predicted_COPD'] = predictions"
   ]
  },
  {
   "cell_type": "code",
   "execution_count": 27,
   "metadata": {},
   "outputs": [
    {
     "name": "stdout",
     "output_type": "stream",
     "text": [
      "        COPD  Predicted_COPD\n",
      "0          0      152.633804\n",
      "1          0      134.299210\n",
      "2          0      191.758133\n",
      "3          0      194.860260\n",
      "4          0      198.821762\n",
      "...      ...             ...\n",
      "201595   300      274.090485\n",
      "201596   300      273.469727\n",
      "201597   300      278.556641\n",
      "201598   300      285.202850\n",
      "201599   300      285.202850\n",
      "\n",
      "[201600 rows x 2 columns]\n"
     ]
    }
   ],
   "source": [
    "print(test_data[['COPD', 'Predicted_COPD']])"
   ]
  },
  {
   "cell_type": "code",
   "execution_count": 28,
   "metadata": {},
   "outputs": [
    {
     "name": "stderr",
     "output_type": "stream",
     "text": [
      "c:\\Users\\ldani\\Documents\\Patronus\\Project\\venv\\Lib\\site-packages\\sklearn\\metrics\\_regression.py:483: FutureWarning: 'squared' is deprecated in version 1.4 and will be removed in 1.6. To calculate the root mean squared error, use the function'root_mean_squared_error'.\n",
      "  warnings.warn(\n",
      "c:\\Users\\ldani\\Documents\\Patronus\\Project\\venv\\Lib\\site-packages\\sklearn\\metrics\\_regression.py:483: FutureWarning: 'squared' is deprecated in version 1.4 and will be removed in 1.6. To calculate the root mean squared error, use the function'root_mean_squared_error'.\n",
      "  warnings.warn(\n"
     ]
    },
    {
     "data": {
      "image/png": "[encoded data removed]",
      "text/plain": [
       "<Figure size 800x600 with 1 Axes>"
      ]
     },
     "metadata": {},
     "output_type": "display_data"
    },
    {
     "name": "stdout",
     "output_type": "stream",
     "text": [
      "Train RMSE: 30.36662061816107\n",
      "Test RMSE: 33.606284278071676\n"
     ]
    }
   ],
   "source": [
    "# Hacer predicciones en el conjunto de entrenamiento y prueba\n",
    "train_predictions = predictor.predict(train_data)\n",
    "test_predictions = predictor.predict(test_data)\n",
    "\n",
    "# Calcular RMSE para el conjunto de entrenamiento y prueba\n",
    "train_rmse = mean_squared_error(train_data['COPD'], train_predictions, squared=False)\n",
    "test_rmse = mean_squared_error(test_data['COPD'], test_predictions, squared=False)\n",
    "\n",
    "# Plotear los valores de RMSE\n",
    "rmse_values = pd.DataFrame({\n",
    "    'Dataset': ['Train', 'Test'],\n",
    "    'RMSE': [train_rmse, test_rmse]\n",
    "})\n",
    "\n",
    "plt.figure(figsize=(8, 6))\n",
    "sns.barplot(x='Dataset', y='RMSE', data=rmse_values)\n",
    "plt.title('RMSE en Conjuntos de Entrenamiento y Prueba')\n",
    "plt.show()\n",
    "\n",
    "print(f\"Train RMSE: {train_rmse}\")\n",
    "print(f\"Test RMSE: {test_rmse}\")\n"
   ]
  },
  {
   "cell_type": "code",
   "execution_count": null,
   "metadata": {},
   "outputs": [],
   "source": [
    "# Convertir numpy arrays a DataFrame\n",
    "X_train_df = pd.DataFrame(X_train)\n",
    "y_train_df = pd.DataFrame(y_train, columns=['COPD'])\n",
    "\n",
    "# Concatenar X_train y y_train\n",
    "train_data = pd.concat([X_train_df, y_train_df], axis=1)\n",
    "\n",
    "# Eliminar filas con valores no finitos en la columna 'COPD'\n",
    "train_data = train_data.dropna(subset=['COPD'])\n",
    "\n",
    "# Convertir a TabularDataset\n",
    "train_data = TabularDataset(train_data)\n",
    "\n",
    "# Realizar validación cruzada usando el método 'fit'\n",
    "predictor = TabularPredictor(label='COPD').fit(\n",
    "    train_data=train_data,\n",
    "    num_bag_folds=5,  # Número de folds para bagging (equivalente a validación cruzada)\n",
    "    num_bag_sets=1,   # Número de repeticiones del proceso de bagging\n",
    "    ag_args_fit={'num_gpus': 1}  # Opcional: Si tienes GPU disponible\n",
    ")\n",
    "\n",
    "# Evaluar el modelo en el conjunto de entrenamiento\n",
    "train_performance = predictor.evaluate(train_data)\n",
    "print(\"Train performance:\", train_performance)\n",
    "\n",
    "# Convertir X_test y y_test a DataFrame\n",
    "X_test_df = pd.DataFrame(X_test)\n",
    "y_test_df = pd.DataFrame(y_test, columns=['COPD'])\n",
    "\n",
    "# Concatenar X_test y y_test\n",
    "test_data = pd.concat([X_test_df, y_test_df], axis=1)\n",
    "\n",
    "# Eliminar filas con valores no finitos en la columna 'COPD'\n",
    "test_data = test_data.dropna(subset=['COPD'])\n",
    "\n",
    "# Convertir a TabularDataset\n",
    "test_data = TabularDataset(test_data)\n",
    "\n",
    "# Evaluar el modelo en el conjunto de prueba\n",
    "test_performance = predictor.evaluate(test_data)\n",
    "print(\"Test performance:\", test_performance)\n"
   ]
  }
 ],
 "metadata": {
  "kernelspec": {
   "display_name": "venv",
   "language": "python",
   "name": "python3"
  },
  "language_info": {
   "codemirror_mode": {
    "name": "ipython",
    "version": 3
   },
   "file_extension": ".py",
   "mimetype": "text/x-python",
   "name": "python",
   "nbconvert_exporter": "python",
   "pygments_lexer": "ipython3",
   "version": "3.11.5"
  }
 },
 "nbformat": 4,
 "nbformat_minor": 2
}
