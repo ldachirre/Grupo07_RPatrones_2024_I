{
 "cells": [
  {
   "cell_type": "code",
   "execution_count": 1,
   "metadata": {},
   "outputs": [],
   "source": [
    "import os\n",
    "import pandas as pd\n",
    "import numpy as np\n",
    "from sklearn.model_selection import train_test_split, GridSearchCV, RandomizedSearchCV\n",
    "from sklearn.multioutput import MultiOutputRegressor\n",
    "from sklearn.ensemble import RandomForestRegressor, GradientBoostingRegressor\n",
    "from sklearn.svm import SVR\n",
    "from sklearn.preprocessing import StandardScaler\n",
    "from sklearn.pipeline import Pipeline\n",
    "from sklearn.metrics import mean_squared_error, mean_absolute_error, r2_score\n",
    "from scipy.stats import uniform, randint\n",
    "from xgboost import XGBRegressor"
   ]
  },
  {
   "cell_type": "code",
   "execution_count": 2,
   "metadata": {},
   "outputs": [],
   "source": [
    "# Función para extraer PEEP y EPOC del nombre del archivo\n",
    "def extract_peep_epoc(filename):\n",
    "    parts = filename.split('_')\n",
    "    peep = int(parts[2].replace('cmH2O', ''))\n",
    "    epoc = int(parts[3].replace('mL.csv', ''))\n",
    "    return peep, epoc"
   ]
  },
  {
   "cell_type": "code",
   "execution_count": 3,
   "metadata": {},
   "outputs": [],
   "source": [
    "# Definir y evaluar modelos de ML\n",
    "def evaluate_model(model, param_grid, X_train, X_test, y_train, y_test):\n",
    "    grid_search = GridSearchCV(estimator=model, param_grid=param_grid, cv=3, n_jobs=-1, verbose=2)\n",
    "    grid_search.fit(X_train, y_train)\n",
    "    \n",
    "    best_model = grid_search.best_estimator_\n",
    "    y_pred = best_model.predict(X_test)\n",
    "    \n",
    "    mse = mean_squared_error(y_test, y_pred, multioutput='raw_values')\n",
    "    rmse = np.sqrt(mse)\n",
    "    mae = mean_absolute_error(y_test, y_pred, multioutput='raw_values')\n",
    "    r2 = r2_score(y_test, y_pred, multioutput='raw_values')\n",
    "    \n",
    "    print(f\"Model: {model.__class__.__name__}\")\n",
    "    print(f\"Best Parameters: {grid_search.best_params_}\")\n",
    "    print(f\"Mean Squared Error (MSE): {mse}\")\n",
    "    print(f\"Root Mean Squared Error (RMSE): {rmse}\")\n",
    "    print(f\"Mean Absolute Error (MAE): {mae}\")\n",
    "    print(f\"R^2 Score: {r2}\\n\")"
   ]
  },
  {
   "cell_type": "code",
   "execution_count": 4,
   "metadata": {},
   "outputs": [],
   "source": [
    "# Ruta de la carpeta con los archivos CSV\n",
    "folder_path = r\"C:\\Users\\ldani\\Documents\\Patronus\\Project\\simulated-obstructive-disease-respiratory-pressure-and-flow-1.0.0\\PQ_ProcessedData\"\n",
    "\n",
    "# Leer todos los archivos CSV\n",
    "data = []\n",
    "labels = []\n",
    "for file in os.listdir(folder_path):\n",
    "    if file.endswith(\".csv\"):\n",
    "        filepath = os.path.join(folder_path, file)\n",
    "        df = pd.read_csv(filepath)\n",
    "        \n",
    "        # Normalizar las señales\n",
    "        scaler = StandardScaler()\n",
    "        df[['Pressure [cmH2O]', 'Flow [L/s]', 'V_tidal [L]']] = scaler.fit_transform(df[['Pressure [cmH2O]', 'Flow [L/s]', 'V_tidal [L]']])\n",
    "        \n",
    "        # Extraer características del archivo CSV\n",
    "        peep, epoc = extract_peep_epoc(file)\n",
    "        \n",
    "        # Crear características adicionales\n",
    "        mean_pressure = df['Pressure [cmH2O]'].mean()\n",
    "        std_pressure = df['Pressure [cmH2O]'].std()\n",
    "        mean_flow = df['Flow [L/s]'].mean()\n",
    "        std_flow = df['Flow [L/s]'].std()\n",
    "        mean_v_tidal = df['V_tidal [L]'].mean()\n",
    "        std_v_tidal = df['V_tidal [L]'].std()\n",
    "        \n",
    "        features = [mean_pressure, std_pressure, mean_flow, std_flow, mean_v_tidal, std_v_tidal]\n",
    "        \n",
    "        data.append(features)\n",
    "        labels.append([peep, epoc])\n",
    "\n",
    "# Convertir a DataFrame\n",
    "data = np.array(data)\n",
    "labels = np.array(labels)\n"
   ]
  },
  {
   "cell_type": "code",
   "execution_count": 5,
   "metadata": {},
   "outputs": [],
   "source": [
    "# Dividir los datos en entrenamiento y prueba\n",
    "X_train, X_test, y_train, y_test = train_test_split(data, labels, test_size=0.2, random_state=42)"
   ]
  },
  {
   "cell_type": "code",
   "execution_count": 6,
   "metadata": {},
   "outputs": [
    {
     "name": "stdout",
     "output_type": "stream",
     "text": [
      "Fitting 3 folds for each of 81 candidates, totalling 243 fits\n",
      "Model: RandomForestRegressor\n",
      "Best Parameters: {'max_depth': 10, 'min_samples_leaf': 4, 'min_samples_split': 2, 'n_estimators': 100}\n",
      "Mean Squared Error (MSE): [9.43790545e+00 1.28957276e+04]\n",
      "Root Mean Squared Error (RMSE): [  3.07211742 113.55935724]\n",
      "Mean Absolute Error (MAE): [ 2.38744778 88.27159023]\n",
      "R^2 Score: [-0.01120416 -0.06151327]\n",
      "\n"
     ]
    }
   ],
   "source": [
    "# RandomForestRegressor\n",
    "rf_model = RandomForestRegressor(random_state=42)\n",
    "rf_param_grid = {\n",
    "    'n_estimators': [100, 200, 300],\n",
    "    'max_depth': [10, 20, 30],\n",
    "    'min_samples_split': [2, 5, 10],\n",
    "    'min_samples_leaf': [1, 2, 4]\n",
    "}\n",
    "evaluate_model(rf_model, rf_param_grid, X_train, X_test, y_train, y_test)"
   ]
  },
  {
   "cell_type": "code",
   "execution_count": 7,
   "metadata": {},
   "outputs": [
    {
     "name": "stdout",
     "output_type": "stream",
     "text": [
      "Fitting 3 folds for each of 81 candidates, totalling 243 fits\n",
      "Model: MultiOutputRegressor\n",
      "Best Parameters: {'estimator__learning_rate': 0.01, 'estimator__max_depth': 3, 'estimator__n_estimators': 100, 'estimator__subsample': 0.7}\n",
      "Mean Squared Error (MSE): [9.39605841e+00 1.25999546e+04]\n",
      "Root Mean Squared Error (RMSE): [  3.06529907 112.24951919]\n",
      "Mean Absolute Error (MAE): [ 2.37918568 88.10249902]\n",
      "R^2 Score: [-0.00672054 -0.03716668]\n",
      "\n"
     ]
    }
   ],
   "source": [
    "# GradientBoostingRegressor\n",
    "gbr_model = MultiOutputRegressor(GradientBoostingRegressor(random_state=42))\n",
    "gbr_param_grid = {\n",
    "    'estimator__n_estimators': [100, 200, 300],\n",
    "    'estimator__max_depth': [3, 5, 7],\n",
    "    'estimator__learning_rate': [0.01, 0.1, 0.2],\n",
    "    'estimator__subsample': [0.7, 0.8, 1.0]\n",
    "}\n",
    "evaluate_model(gbr_model, gbr_param_grid, X_train, X_test, y_train, y_test)"
   ]
  },
  {
   "cell_type": "code",
   "execution_count": 8,
   "metadata": {},
   "outputs": [
    {
     "name": "stdout",
     "output_type": "stream",
     "text": [
      "Fitting 3 folds for each of 18 candidates, totalling 54 fits\n",
      "Model: MultiOutputRegressor\n",
      "Best Parameters: {'estimator__C': 10, 'estimator__epsilon': 0.01, 'estimator__kernel': 'linear'}\n",
      "Mean Squared Error (MSE): [9.33333335e+00 1.68736260e+04]\n",
      "Root Mean Squared Error (RMSE): [  3.05505047 129.89852199]\n",
      "Mean Absolute Error (MAE): [ 2.33333397 87.49875086]\n",
      "R^2 Score: [-1.27061428e-09 -3.88954424e-01]\n",
      "\n"
     ]
    }
   ],
   "source": [
    "# SVR\n",
    "svr_model = MultiOutputRegressor(SVR())\n",
    "svr_param_grid = {\n",
    "    'estimator__kernel': ['linear', 'rbf'],\n",
    "    'estimator__C': [0.1, 1, 10],\n",
    "    'estimator__epsilon': [0.01, 0.1, 0.2]\n",
    "}\n",
    "evaluate_model(svr_model, svr_param_grid, X_train, X_test, y_train, y_test)"
   ]
  },
  {
   "cell_type": "code",
   "execution_count": 9,
   "metadata": {},
   "outputs": [
    {
     "name": "stdout",
     "output_type": "stream",
     "text": [
      "Fitting 3 folds for each of 100 candidates, totalling 300 fits\n",
      "XGBRegressor with RandomizedSearchCV\n",
      "Best Parameters: {'model__estimator__colsample_bytree': 0.8834959481464842, 'model__estimator__learning_rate': 0.012119891565915222, 'model__estimator__max_depth': 3, 'model__estimator__n_estimators': 660, 'model__estimator__subsample': 0.8574323980775167}\n",
      "Mean Squared Error (MSE): [1.16383325e+01 1.31991043e+04]\n",
      "Root Mean Squared Error (RMSE): [  3.41150003 114.88735477]\n",
      "Mean Absolute Error (MAE): [ 2.9487815  88.98177783]\n",
      "R^2 Score: [-0.24696419 -0.08648575]\n"
     ]
    }
   ],
   "source": [
    "# XGBRegressor with RandomizedSearchCV\n",
    "pipeline = Pipeline([\n",
    "    ('scaler', StandardScaler()),  # Normalización de datos\n",
    "    ('model', MultiOutputRegressor(XGBRegressor(random_state=42)))\n",
    "])\n",
    "\n",
    "param_dist = {\n",
    "    'model__estimator__n_estimators': randint(100, 1000),\n",
    "    'model__estimator__max_depth': randint(3, 10),\n",
    "    'model__estimator__learning_rate': uniform(0.01, 0.3),\n",
    "    'model__estimator__subsample': uniform(0.7, 0.3),\n",
    "    'model__estimator__colsample_bytree': uniform(0.7, 0.3)\n",
    "}\n",
    "\n",
    "random_search = RandomizedSearchCV(estimator=pipeline, param_distributions=param_dist, n_iter=100, cv=3, n_jobs=-1, verbose=2, random_state=42)\n",
    "random_search.fit(X_train, y_train)\n",
    "\n",
    "best_model = random_search.best_estimator_\n",
    "y_pred = best_model.predict(X_test)\n",
    "\n",
    "mse = mean_squared_error(y_test, y_pred, multioutput='raw_values')\n",
    "rmse = np.sqrt(mse)\n",
    "mae = mean_absolute_error(y_test, y_pred, multioutput='raw_values')\n",
    "r2 = r2_score(y_test, y_pred, multioutput='raw_values')\n",
    "\n",
    "print(f\"XGBRegressor with RandomizedSearchCV\")\n",
    "print(f\"Best Parameters: {random_search.best_params_}\")\n",
    "print(f\"Mean Squared Error (MSE): {mse}\")\n",
    "print(f\"Root Mean Squared Error (RMSE): {rmse}\")\n",
    "print(f\"Mean Absolute Error (MAE): {mae}\")\n",
    "print(f\"R^2 Score: {r2}\")"
   ]
  }
 ],
 "metadata": {
  "kernelspec": {
   "display_name": "Python 3",
   "language": "python",
   "name": "python3"
  },
  "language_info": {
   "codemirror_mode": {
    "name": "ipython",
    "version": 3
   },
   "file_extension": ".py",
   "mimetype": "text/x-python",
   "name": "python",
   "nbconvert_exporter": "python",
   "pygments_lexer": "ipython3",
   "version": "3.10.2"
  }
 },
 "nbformat": 4,
 "nbformat_minor": 2
}
