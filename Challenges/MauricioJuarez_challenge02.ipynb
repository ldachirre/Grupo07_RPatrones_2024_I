{
 "cells": [
  {
   "cell_type": "markdown",
   "id": "5990a00b-744d-41d9-b7e2-117f7feb145e",
   "metadata": {},
   "source": [
    "Introducción"
   ]
  },
  {
   "cell_type": "markdown",
   "id": "898ba3af-c12a-47bc-9408-6fb9dba767bf",
   "metadata": {},
   "source": [
    "La enfermedad pulmonar obstructiva crónica (EPOC) representa una carga significativa para la salud pública a nivel mundial, siendo una de las principales causas de morbilidad y mortalidad. A pesar de los esfuerzos realizados para concienciar sobre esta enfermedad, persisten desafíos significativos que dificultan su prevención, diagnóstico temprano y tratamiento efectivo. Entre estos desafíos se encuentra la falta de conciencia pública y política sobre la EPOC, que tiene múltiples implicaciones negativas [1].\n",
    "\n",
    "En primer lugar, la falta de conciencia contribuye a retrasos en el diagnóstico y tratamiento de la EPOC, lo que puede resultar en una progresión más rápida de la enfermedad y en peores resultados para los pacientes. Además, la falta de atención política se traduce en una insuficiencia de fondos y programas destinados a la prevención del tabaquismo y a la mejora de la calidad del aire, dos factores cruciales en la prevención de la EPOC. Asimismo, la falta de conciencia puede perpetuar el estigma asociado con la enfermedad, dificultando que las personas afectadas busquen ayuda y apoyo, lo que puede llevar a un mayor aislamiento social y a una disminución de la calidad de vida tanto para los pacientes como para sus cuidadores [1].\n",
    "\n",
    "Debido a este problema mundial, como lo es la EPOC, la Organización Mundial de la Salud adopta algunas medidas y abarcan esta complicación en su Plan de Acción Mundial para la Prevención y el Control de las Enfermedades No Transmisibles y la Agenda 2030 para el Desarrollo Sostenible de las Naciones Unidas [2]. Por otra parte, la misma organización ha creado la Global Initiative for Chronic Obstructive Lung Disease (GOLD) la cual está en constante actualización con esta enfermedad, aportando con reportes anuales sobre la definición de la EPOC, patogénesis, diagnósticos, tratamiento, etc. [3].\n",
    "\n",
    "En este contexto, se propone en este trabajo la utilización de un sistema de clasificación para detectar el volumen de EPOC a partir de señales fisiológicas. Este enfoque tiene el potencial de mejorar la detección temprana y la gestión de la enfermedad, lo que podría conducir a mejores resultados para los pacientes y a una reducción de la carga que la EPOC impone sobre los sistemas de atención médica.\n",
    "\n"
   ]
  },
  {
   "cell_type": "markdown",
   "id": "bb21397b-a425-4add-8b7e-2bee1855cc4d",
   "metadata": {},
   "source": [
    "Metodología"
   ]
  },
  {
   "cell_type": "markdown",
   "id": "0709f656-f763-4af5-87f7-521b84c1db3e",
   "metadata": {},
   "source": [
    "Selección de data base: Se seleccionó la base de datos “Simulated Obstructive Disease Respiratory Pressure and Flow” que contiene las señales fisiológicas de los 20 pacientes, donde se varían el PEEP y el EPOC. De esta, se trabajó con la carpeta “Processed Data”, ya que en esta los datos están limpios y correctamente etiquetados.\n",
    "\n",
    "Obtención de data a partir de la data base: Se hizo la lectura de los 240 archivos CSV que contienen las señales fisiológicas de los pacientes, donde cada archivo representa una combinación de PEEP y EPOC para un paciente específico.\n",
    "\n",
    "División entre data de entrenamiento y data de testeo: Se dividieron los datos en un conjunto de entrenamiento y un conjunto de prueba. Se asignó un porcentaje de los datos para entrenamiento (en este caso 80%) y el resto para pruebas (por ejemplo, 20%).\n",
    "\n",
    "Creación de modelos de clasificación: Se implementaron 3 algoritmos de clasificación: regresión logística, k-Nearest Neighbors (KNN) y Naive Bayes. Esto implicó configurar los modelos con los parámetros adecuados como en el caso de KNN se definió el número de vecinos a 3.\n",
    "\n",
    "Entrenamiento de los modelos: Se utilizaron los datos de entrenamiento para entrenar los modelos de clasificación. Cada modelo se ajustará a los datos de entrenamiento para aprender los patrones subyacentes en las señales fisiológicas y sus correspondientes niveles de EPOC.\n",
    "\n",
    "Evaluación de los modelos: Una vez entrenados los modelos, se evaluaron utilizando los datos de prueba. Se calcularon métricas de evaluación como precisión, recall, F1-score y matriz de confusión para cada modelo.\n",
    "\n",
    "Selección del mejor modelo: Se comparó el rendimiento de los diferentes modelos y se seleccionó el que tuvo el mejor desempeño en términos de las métricas de evaluación."
   ]
  },
  {
   "cell_type": "code",
   "execution_count": 1,
   "id": "07e61a56-0a2a-4391-8aa1-abc2fcb8d8e9",
   "metadata": {},
   "outputs": [],
   "source": [
    "import csv\n",
    "import os\n",
    "import pandas as pd\n",
    "from sklearn.model_selection import train_test_split\n",
    "from sklearn.naive_bayes import GaussianNB\n",
    "from sklearn.neighbors import KNeighborsClassifier\n",
    "from sklearn.linear_model import LogisticRegression\n",
    "from sklearn.metrics import accuracy_score"
   ]
  },
  {
   "cell_type": "code",
   "execution_count": 2,
   "id": "83d393ce-78a3-4544-87d2-e489b3bc6b6e",
   "metadata": {},
   "outputs": [],
   "source": [
    "# Ruta del directorio donde se encuentran los archivos CSV\n",
    "directorio = r\"D:\\Documentos\\2024-1\\Reconocimiento de Patrones\\simulated-obstructive-disease-respiratory-pressure-and-flow-1.0.0\\PQ_ProcessedData\"\n",
    "\n",
    "# Función para leer el archivo CSV y extraer los valores de la columna 'Pressure [cmH2O]' para los primeros 25 segundos\n",
    "def leer_presiones(ruta_archivo):\n",
    "    presiones = []\n",
    "    with open(ruta_archivo, 'r') as archivo:\n",
    "        lector_csv = csv.DictReader(archivo)\n",
    "        for fila in lector_csv:\n",
    "            tiempo = float(fila['Time [s]'])\n",
    "            if tiempo <= 30:  # Considerar solo los primeros 25 segundos\n",
    "                presion = float(fila['Pressure [cmH2O]'])\n",
    "                presiones.append(presion)\n",
    "            else:\n",
    "                break  # Salir del bucle si el tiempo excede los 25 segundos\n",
    "    return presiones\n"
   ]
  },
  {
   "cell_type": "code",
   "execution_count": 3,
   "id": "ffc5bf46-d396-4d72-afec-f436f8ec8135",
   "metadata": {},
   "outputs": [
    {
     "name": "stdout",
     "output_type": "stream",
     "text": [
      "Listo 1: Variables determinadas\n",
      "192\n",
      "192\n"
     ]
    }
   ],
   "source": [
    "# Lista para almacenar las listas de presiones de cada archivo\n",
    "lista_presiones = []\n",
    "\n",
    "# Iterar sobre los archivos en el directorio\n",
    "for nombre_archivo in os.listdir(directorio):\n",
    "    if nombre_archivo.endswith(\".csv\"):\n",
    "        ruta_archivo = os.path.join(directorio, nombre_archivo)\n",
    "        presiones = leer_presiones(ruta_archivo)\n",
    "        lista_presiones.append(presiones)\n",
    "\n",
    "X=lista_presiones\n",
    "# Definimos los valores de EPOC \n",
    "y = ([0] + [200] + [250] + [300])*3*20\n",
    "\n",
    "X_train, X_test, y_train, y_test = train_test_split(X, y, test_size=0.2)\n",
    "\n",
    "print(\"Listo 1: Variables determinadas\")\n",
    "\n",
    "print(len(X_train))\n",
    "print(len(y_train))\n"
   ]
  },
  {
   "cell_type": "code",
   "execution_count": 4,
   "id": "7af5deb5-fcdf-444d-b71f-463439683ea6",
   "metadata": {},
   "outputs": [
    {
     "name": "stdout",
     "output_type": "stream",
     "text": [
      "Listo 2: Modelos entrenados\n"
     ]
    },
    {
     "name": "stderr",
     "output_type": "stream",
     "text": [
      "C:\\Users\\Mauricio\\AppData\\Local\\Programs\\Python\\Python312\\Lib\\site-packages\\sklearn\\linear_model\\_logistic.py:469: ConvergenceWarning: lbfgs failed to converge (status=1):\n",
      "STOP: TOTAL NO. of ITERATIONS REACHED LIMIT.\n",
      "\n",
      "Increase the number of iterations (max_iter) or scale the data as shown in:\n",
      "    https://scikit-learn.org/stable/modules/preprocessing.html\n",
      "Please also refer to the documentation for alternative solver options:\n",
      "    https://scikit-learn.org/stable/modules/linear_model.html#logistic-regression\n",
      "  n_iter_i = _check_optimize_result(\n"
     ]
    }
   ],
   "source": [
    "# Modelo de regresión logística\n",
    "modeloLR = LogisticRegression()\n",
    "modeloLR.fit(X_train, y_train)\n",
    "\n",
    "# Modelo Naive Bayes\n",
    "modeloNB = GaussianNB()\n",
    "modeloNB.fit(X_train, y_train)\n",
    "\n",
    "# Modelo KNN\n",
    "k = 3\n",
    "modeloKNN = KNeighborsClassifier(n_neighbors=k)\n",
    "modeloKNN.fit(X_train, y_train)\n",
    "\n",
    "print(\"Listo 2: Modelos entrenados\")"
   ]
  },
  {
   "cell_type": "code",
   "execution_count": 5,
   "id": "e0cf87b3-9429-45a6-82ae-0b732c493c59",
   "metadata": {},
   "outputs": [
    {
     "name": "stdout",
     "output_type": "stream",
     "text": [
      "Listo 3: Modelos probados\n",
      "Precisión del modelo Naive Bayes: 0.4375\n",
      "Precisión del modelo Regresión Logística: 0.14583333333333334\n",
      "Precisión del modelo KNN: 0.3333333333333333\n"
     ]
    }
   ],
   "source": [
    "# Comprobación de modelos\n",
    "y_pred_NB = modeloNB.predict(X_test)\n",
    "y_pred_LR = modeloLR.predict(X_test)\n",
    "y_pred_KNN = modeloKNN.predict(X_test)\n",
    "\n",
    "print(\"Listo 3: Modelos probados\")\n",
    "\n",
    "# Resultados\n",
    "precision_NB = accuracy_score(y_test, y_pred_NB)\n",
    "precision_LR = accuracy_score(y_test, y_pred_LR)\n",
    "precision_KNN = accuracy_score(y_test, y_pred_KNN)\n",
    "\n",
    "print(\"Precisión del modelo Naive Bayes:\", precision_NB)\n",
    "print(\"Precisión del modelo Regresión Logística:\", precision_LR)\n",
    "print(\"Precisión del modelo KNN:\", precision_KNN)"
   ]
  },
  {
   "cell_type": "code",
   "execution_count": null,
   "id": "f8b2d8b8-d0b6-4ea2-bf39-87ec93938fb7",
   "metadata": {},
   "outputs": [],
   "source": [
    "Bibliografía"
   ]
  },
  {
   "cell_type": "markdown",
   "id": "34474004-628c-4936-9b64-5d31b40e7f5f",
   "metadata": {},
   "source": [
    "[1] S. M. Levine and D. D. Marciniuk, \"Global Impact of Respiratory Disease: What Can We Do, Together, to Make a Difference?,\" Chest, vol. 161, no. 5, pp. 1153-1154, 2022/05/01/ 2022, doi: https://doi.org/10.1016/j.chest.2022.01.014.\n",
    "\n",
    "[2] Organización Mundial de la Salud, “Enfermedad pulmonar obstructiva crónica (EPOC),” Who.int, Mar. 16, 2023. https://www.who.int/es/news-room/fact-sheets/detail/chronic-obstructive-pulmonary-disease-(copd)\n",
    "\n",
    "[3] Alvar Agustí et al., “Global Initiative for Chronic Obstructive Lung Disease 2023 Report: GOLD Executive Summary,” American journal of respiratory and critical care medicine, vol. 207, no. 7, pp. 819–837, Apr. 2023, doi: https://doi.org/10.1164/rccm.202301-0106pp."
   ]
  }
 ],
 "metadata": {
  "kernelspec": {
   "display_name": "Python 3 (ipykernel)",
   "language": "python",
   "name": "python3"
  },
  "language_info": {
   "codemirror_mode": {
    "name": "ipython",
    "version": 3
   },
   "file_extension": ".py",
   "mimetype": "text/x-python",
   "name": "python",
   "nbconvert_exporter": "python",
   "pygments_lexer": "ipython3",
   "version": "3.12.2"
  }
 },
 "nbformat": 4,
 "nbformat_minor": 5
}
