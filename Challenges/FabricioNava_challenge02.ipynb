{
 "cells": [
  {
   "cell_type": "markdown",
   "metadata": {},
   "source": [
    "1. INTRODUCCION"
   ]
  },
  {
   "cell_type": "markdown",
   "metadata": {},
   "source": [
    "La enfermedad pulmonar obstructiva crónica (EPOC) representa una carga significativa para la salud pública a nivel mundial, siendo una de las principales causas de morbilidad y mortalidad. A pesar de los esfuerzos realizados para concienciar sobre esta enfermedad, persisten desafíos significativos que dificultan su prevención, diagnóstico temprano y tratamiento efectivo. Entre estos desafíos se encuentra la falta de conciencia pública y política sobre la EPOC, que tiene múltiples implicaciones negativas [1].\n",
    "\n",
    "En primer lugar, la falta de conciencia contribuye a retrasos en el diagnóstico y tratamiento de la EPOC, lo que puede resultar en una progresión más rápida de la enfermedad y en peores resultados para los pacientes. Además, la falta de atención política se traduce en una insuficiencia de fondos y programas destinados a la prevención del tabaquismo y a la mejora de la calidad del aire, dos factores cruciales en la prevención de la EPOC. Asimismo, la falta de conciencia puede perpetuar el estigma asociado con la enfermedad, dificultando que las personas afectadas busquen ayuda y apoyo, lo que puede llevar a un mayor aislamiento social y a una disminución de la calidad de vida tanto para los pacientes como para sus cuidadores [1].\n",
    "\n",
    "Debido a este problema mundial, como lo es la EPOC, la Organización Mundial de la Salud adopta algunas medidas y abarcan esta complicación en su Plan de Acción Mundial para la Prevención y el Control de las Enfermedades No Transmisibles y la Agenda 2030 para el Desarrollo Sostenible de las Naciones Unidas [2]. Por otra parte, la misma organización ha creado la Global Initiative for Chronic Obstructive Lung Disease (GOLD) la cual está en constante actualización con esta enfermedad, aportando con reportes anuales sobre la definición de la EPOC, patogénesis, diagnósticos, tratamiento, etc. [3].\n",
    "\n",
    "En este contexto, se propone en este trabajo la utilización de un sistema de clasificación para detectar el volumen de EPOC a partir de señales fisiológicas. Este enfoque tiene el potencial de mejorar la detección temprana y la gestión de la enfermedad, lo que podría conducir a mejores resultados para los pacientes y a una reducción de la carga que la EPOC impone sobre los sistemas de atención médica.\n"
   ]
  },
  {
   "cell_type": "markdown",
   "metadata": {},
   "source": [
    "2. METODOLOGIA"
   ]
  },
  {
   "cell_type": "markdown",
   "metadata": {},
   "source": [
    "Selección de data base:\n",
    "Se seleccionó la base de datos “Simulated Obstructive Disease Respiratory Pressure and Flow” que contiene las señales fisiológicas de los 20 pacientes, donde se varían el PEEP y el EPOC. De esta, se trabajó con la carpeta “Processed Data”, ya que en esta los datos están limpios y correctamente etiquetados.\n",
    "\n",
    "Obtención de data a partir de la data base:\n",
    "Se hizo la lectura de los 240 archivos CSV que contienen las señales fisiológicas de los pacientes, donde cada archivo representa una combinación de PEEP y EPOC para un paciente específico.\n",
    "\n",
    "División entre data de entrenamiento y data de testeo:\n",
    "Se dividieron los datos en un conjunto de entrenamiento y un conjunto de prueba. Se asignó un porcentaje de los datos para entrenamiento (en este caso 80%) y el resto para pruebas (por ejemplo, 20%).\n",
    "\n",
    "Creación de modelos de clasificación:\n",
    "Se implementaron 3 algoritmos de clasificación: regresión logística, k-Nearest Neighbors (KNN) y Naive Bayes. Esto implicó configurar los modelos con los parámetros adecuados como en el caso de KNN se definió el número de vecinos a 3. \n",
    "\n",
    "Entrenamiento de los modelos:\n",
    "Se utilizarán los datos de entrenamiento para entrenar los modelos de clasificación. Cada modelo se ajustará a los datos de entrenamiento para aprender los patrones subyacentes en las señales fisiológicas y sus correspondientes niveles de EPOC.\n",
    "\n",
    "Evaluación de los modelos:\n",
    "Una vez entrenados los modelos, se evaluarán utilizando los datos de prueba. Se calcularon métricas de evaluación como precisión, recall, F1-score y matriz de confusión para cada modelo.\n",
    "\n",
    "Selección del mejor modelo:\n",
    "Se compará el rendimiento de los diferentes modelos y se seleccionará el que obtuvo el mejor desempeño en términos de las métricas de evaluación.\n"
   ]
  },
  {
   "cell_type": "code",
   "execution_count": 2,
   "metadata": {},
   "outputs": [
    {
     "name": "stdout",
     "output_type": "stream",
     "text": [
      "Listo 1: Variables determinadas\n",
      "192\n",
      "192\n",
      "Listo 2: Modelos entrenados\n",
      "Listo 3: Modelos probados\n",
      "Precisión del modelo Naive Bayes: 0.5208333333333334\n",
      "Precisión del modelo Regresión Logística: 0.1875\n",
      "Precisión del modelo KNN: 0.4375\n"
     ]
    },
    {
     "name": "stderr",
     "output_type": "stream",
     "text": [
      "c:\\Users\\FABRICIO\\AppData\\Local\\Programs\\Python\\Python310\\lib\\site-packages\\sklearn\\linear_model\\_logistic.py:460: ConvergenceWarning: lbfgs failed to converge (status=1):\n",
      "STOP: TOTAL NO. of ITERATIONS REACHED LIMIT.\n",
      "\n",
      "Increase the number of iterations (max_iter) or scale the data as shown in:\n",
      "    https://scikit-learn.org/stable/modules/preprocessing.html\n",
      "Please also refer to the documentation for alternative solver options:\n",
      "    https://scikit-learn.org/stable/modules/linear_model.html#logistic-regression\n",
      "  n_iter_i = _check_optimize_result(\n"
     ]
    }
   ],
   "source": [
    "import csv\n",
    "import os\n",
    "import pandas as pd\n",
    "from sklearn.model_selection import train_test_split\n",
    "from sklearn.naive_bayes import GaussianNB\n",
    "from sklearn.neighbors import KNeighborsClassifier\n",
    "from sklearn.linear_model import LogisticRegression\n",
    "from sklearn.metrics import accuracy_score\n",
    "\n",
    "# Ruta del directorio donde se encuentran los archivos CSV\n",
    "directorio = r\"D:\\DESK\\PATRONUS\\simulated-obstructive-disease-respiratory-pressure-and-flow-1.0.0\\PQ_ProcessedData\"\n",
    "\n",
    "# Función para leer el archivo CSV y extraer los valores de la columna 'Pressure [cmH2O]' para los primeros 25 segundos\n",
    "def leer_presiones(ruta_archivo):\n",
    "    presiones = []\n",
    "    with open(ruta_archivo, 'r') as archivo:\n",
    "        lector_csv = csv.DictReader(archivo)\n",
    "        for fila in lector_csv:\n",
    "            tiempo = float(fila['Time [s]'])\n",
    "            if tiempo <= 30:  # Considerar solo los primeros 25 segundos\n",
    "                presion = float(fila['Pressure [cmH2O]'])\n",
    "                presiones.append(presion)\n",
    "            else:\n",
    "                break  # Salir del bucle si el tiempo excede los 25 segundos\n",
    "    return presiones\n",
    "\n",
    "# Lista para almacenar las listas de presiones de cada archivo\n",
    "lista_presiones = []\n",
    "\n",
    "# Iterar sobre los archivos en el directorio\n",
    "for nombre_archivo in os.listdir(directorio):\n",
    "    if nombre_archivo.endswith(\".csv\"):\n",
    "        ruta_archivo = os.path.join(directorio, nombre_archivo)\n",
    "        presiones = leer_presiones(ruta_archivo)\n",
    "        lista_presiones.append(presiones)\n",
    "\n",
    "X=lista_presiones\n",
    "# Definimos los valores de EPOC \n",
    "y = ([0] + [200] + [250] + [300])*3*20\n",
    "\n",
    "X_train, X_test, y_train, y_test = train_test_split(X, y, test_size=0.2)\n",
    "\n",
    "print(\"Listo 1: Variables determinadas\")\n",
    "\n",
    "print(len(X_train))\n",
    "print(len(y_train))\n",
    "\n",
    "# Modelo de regresión logística\n",
    "modeloLR = LogisticRegression()\n",
    "modeloLR.fit(X_train, y_train)\n",
    "\n",
    "# Modelo Naive Bayes\n",
    "modeloNB = GaussianNB()\n",
    "modeloNB.fit(X_train, y_train)\n",
    "\n",
    "# Modelo KNN\n",
    "k = 3\n",
    "modeloKNN = KNeighborsClassifier(n_neighbors=k)\n",
    "modeloKNN.fit(X_train, y_train)\n",
    "\n",
    "print(\"Listo 2: Modelos entrenados\")\n",
    "\n",
    "# Comprobación de modelos\n",
    "y_pred_NB = modeloNB.predict(X_test)\n",
    "y_pred_LR = modeloLR.predict(X_test)\n",
    "y_pred_KNN = modeloKNN.predict(X_test)\n",
    "\n",
    "print(\"Listo 3: Modelos probados\")\n",
    "\n",
    "# Resultados\n",
    "precision_NB = accuracy_score(y_test, y_pred_NB)\n",
    "precision_LR = accuracy_score(y_test, y_pred_LR)\n",
    "precision_KNN = accuracy_score(y_test, y_pred_KNN)\n",
    "\n",
    "print(\"Precisión del modelo Naive Bayes:\", precision_NB)\n",
    "print(\"Precisión del modelo Regresión Logística:\", precision_LR)\n",
    "print(\"Precisión del modelo KNN:\", precision_KNN)"
   ]
  },
  {
   "cell_type": "markdown",
   "metadata": {},
   "source": [
    "3. RESULTADOS"
   ]
  },
  {
   "cell_type": "code",
   "execution_count": 3,
   "metadata": {},
   "outputs": [
    {
     "name": "stdout",
     "output_type": "stream",
     "text": [
      "Métricas del modelo Naive Bayes:\n",
      "Precisión: 0.5433625470390177\n",
      "Recall: 0.5208333333333334\n",
      "F1-score: 0.5187937062937062\n",
      "Matriz de confusión:\n",
      "[[11  0  0  0]\n",
      " [ 0  2  3  8]\n",
      " [ 0  4  7  4]\n",
      " [ 0  3  1  5]]\n",
      "\n",
      "Métricas del modelo de Regresión Logística:\n",
      "Precisión: 0.20668859649122806\n",
      "Recall: 0.1875\n",
      "F1-score: 0.18184523809523812\n",
      "Matriz de confusión:\n",
      "[[1 2 2 6]\n",
      " [2 2 5 4]\n",
      " [1 5 3 6]\n",
      " [0 4 2 3]]\n",
      "\n",
      "Métricas del modelo KNN:\n",
      "Precisión: 0.4178685897435897\n",
      "Recall: 0.4375\n",
      "F1-score: 0.40922619047619047\n",
      "Matriz de confusión:\n",
      "[[11  0  0  0]\n",
      " [ 0  2  5  6]\n",
      " [ 2  3  3  7]\n",
      " [ 0  3  1  5]]\n"
     ]
    }
   ],
   "source": [
    "from sklearn.metrics import precision_score, recall_score, f1_score, confusion_matrix\n",
    "\n",
    "# Métricas para el modelo Naive Bayes\n",
    "precision_NB = precision_score(y_test, y_pred_NB, average='weighted')\n",
    "recall_NB = recall_score(y_test, y_pred_NB, average='weighted')\n",
    "f1_NB = f1_score(y_test, y_pred_NB, average='weighted')\n",
    "conf_matrix_NB = confusion_matrix(y_test, y_pred_NB)\n",
    "\n",
    "print(\"Métricas del modelo Naive Bayes:\")\n",
    "print(\"Precisión:\", precision_NB)\n",
    "print(\"Recall:\", recall_NB)\n",
    "print(\"F1-score:\", f1_NB)\n",
    "print(\"Matriz de confusión:\")\n",
    "print(conf_matrix_NB)\n",
    "\n",
    "# Métricas para el modelo de Regresión Logística\n",
    "precision_LR = precision_score(y_test, y_pred_LR, average='weighted')\n",
    "recall_LR = recall_score(y_test, y_pred_LR, average='weighted')\n",
    "f1_LR = f1_score(y_test, y_pred_LR, average='weighted')\n",
    "conf_matrix_LR = confusion_matrix(y_test, y_pred_LR)\n",
    "\n",
    "print(\"\\nMétricas del modelo de Regresión Logística:\")\n",
    "print(\"Precisión:\", precision_LR)\n",
    "print(\"Recall:\", recall_LR)\n",
    "print(\"F1-score:\", f1_LR)\n",
    "print(\"Matriz de confusión:\")\n",
    "print(conf_matrix_LR)\n",
    "\n",
    "# Métricas para el modelo KNN\n",
    "precision_KNN = precision_score(y_test, y_pred_KNN, average='weighted')\n",
    "recall_KNN = recall_score(y_test, y_pred_KNN, average='weighted')\n",
    "f1_KNN = f1_score(y_test, y_pred_KNN, average='weighted')\n",
    "conf_matrix_KNN = confusion_matrix(y_test, y_pred_KNN)\n",
    "\n",
    "print(\"\\nMétricas del modelo KNN:\")\n",
    "print(\"Precisión:\", precision_KNN)\n",
    "print(\"Recall:\", recall_KNN)\n",
    "print(\"F1-score:\", f1_KNN)\n",
    "print(\"Matriz de confusión:\")\n",
    "print(conf_matrix_KNN)"
   ]
  },
  {
   "cell_type": "markdown",
   "metadata": {},
   "source": [
    "4. DISCUSIONES"
   ]
  },
  {
   "cell_type": "markdown",
   "metadata": {},
   "source": [
    "En este trabajo, se evaluaron tres modelos de aprendizaje automático (Naive Bayes, Regresión Logística y KNN) para predecir el valor de EPOC en función de un conjunto de datos. El objetivo principal fue determinar cuál de estos modelos ofrece el mejor rendimiento en la tarea de relacionar los datos de entrada con los valores de EPOC.\n",
    "\n",
    "Los resultados muestran que el modelo Naive Bayes superó a los otros dos en términos de precisión, recall y F1-score. Este modelo logró una precisión del 54.3%, un recall del 52.1% y un F1-score del 51.9%. Estas métricas indican un buen equilibrio entre la capacidad de predecir correctamente los valores de épocas y la capacidad de recuperar todos los valores relevantes.\n",
    "\n",
    "Por otro lado, la Regresión Logística demostró ser el modelo con el rendimiento más bajo, con una precisión del 20.7%, recall del 18.8% y F1-score del 18.2%. Este resultado sugiere que la Regresión Logística podría no ser la mejor opción para este problema específico de predicción de valores de épocas.\n",
    "\n",
    "El modelo KNN obtuvo resultados intermedios, con una precisión del 41.8%, recall del 43.8% y F1-score del 40.9%. Aunque KNN tuvo un rendimiento comparable a Naive Bayes en términos de precisión y recall, su F1-score ligeramente más bajo sugiere que podría haber un desequilibrio entre la precisión y el recall en sus predicciones."
   ]
  },
  {
   "cell_type": "markdown",
   "metadata": {},
   "source": [
    "5. CONCLUSIONES"
   ]
  },
  {
   "cell_type": "markdown",
   "metadata": {},
   "source": [
    "En conclusión, en este trabajo se evaluaron tres modelos de aprendizaje automático para predecir los valores de épocas en función de un conjunto de datos. Los resultados sugieren que el modelo Naive Bayes es el más adecuado para esta tarea, ya que logró un mejor equilibrio entre precisión y recall en comparación con los otros dos modelos evaluados.\n",
    "\n",
    "Estos hallazgos tienen importantes implicaciones para aplicaciones prácticas donde la predicción precisa de valores de épocas es crucial. Por ejemplo, en el contexto de análisis de datos temporales o en la optimización de procesos, contar con un modelo preciso para predecir los valores de épocas podría mejorar la toma de decisiones y la eficiencia operativa.\n",
    "\n",
    "Sin embargo, es importante tener en cuenta las limitaciones de este estudio. Por ejemplo, se utilizó un conjunto de datos específico y los resultados podrían variar con conjuntos de datos diferentes. Además, se evaluaron solo tres modelos de aprendizaje automático, por lo que podrían explorarse otras técnicas de modelado en estudios futuros para determinar si se puede obtener un rendimiento aún mejor."
   ]
  },
  {
   "cell_type": "markdown",
   "metadata": {},
   "source": [
    "6. BIBLIOGRAFÍA"
   ]
  },
  {
   "cell_type": "markdown",
   "metadata": {},
   "source": [
    "Bibliografía\n",
    "[1] S. M. Levine and D. D. Marciniuk, \"Global Impact of Respiratory Disease: What Can We Do, Together, to Make a Difference?,\" Chest, vol. 161, no. 5, pp. 1153-1154, 2022/05/01/ 2022, doi: https://doi.org/10.1016/j.chest.2022.01.014. [Accessed 6/4/24]\n",
    "[2]\tOrganización Mundial de la Salud, “Enfermedad pulmonar obstructiva crónica (EPOC),” Who.int, Mar. 16, 2023. https://www.who.int/es/news-room/fact-sheets/detail/chronic-obstructive-pulmonary-disease-(copd) (accessed Apr. 07, 2024).\n",
    "[3]\tAlvar Agustí et al., “Global Initiative for Chronic Obstructive Lung Disease 2023 Report: GOLD Executive Summary,” American journal of respiratory and critical care medicine, vol. 207, no. 7, pp. 819–837, Apr. 2023, doi: https://doi.org/10.1164/rccm.202301-0106pp.\n"
   ]
  }
 ],
 "metadata": {
  "kernelspec": {
   "display_name": "Python 3",
   "language": "python",
   "name": "python3"
  },
  "language_info": {
   "codemirror_mode": {
    "name": "ipython",
    "version": 3
   },
   "file_extension": ".py",
   "mimetype": "text/x-python",
   "name": "python",
   "nbconvert_exporter": "python",
   "pygments_lexer": "ipython3",
   "version": "3.10.2"
  }
 },
 "nbformat": 4,
 "nbformat_minor": 2
}
