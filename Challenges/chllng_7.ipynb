{
 "cells": [
  {
   "cell_type": "markdown",
   "metadata": {},
   "source": [
    "### Challenge 7\n",
    "Se utiliza la base de datos obtenida de PhysioNet \"VinDr-SpineXR: A large annotated medical image dataset for spinal lesions detection and classification from radiographs\". Esta contiene imágenes de rayos X en formato dicom de 13 enfermedades [1]. Se seleccionaron 50 imagenes de 3 tipos: Disc space narrowing, Foramidal steanosis y Vertebral Collpase.\n",
    "\n",
    "[1] P. Hieu Huy. “VinDr-SpineXR: A large annotated medical image dataset for spinal lesions detection and classification from radiographs”. PhysioNet. Accedido el 24 de mayo de 2024. [En línea]. Disponible: https://physionet.org/content/vindr-spinexr/1.0.0/"
   ]
  },
  {
   "cell_type": "code",
   "execution_count": 37,
   "metadata": {},
   "outputs": [],
   "source": [
    "import numpy as np\n",
    "import tensorflow as tf\n",
    "from tensorflow.keras.models import Sequential\n",
    "from tensorflow.keras.layers import Dense, Flatten, Conv2D, MaxPooling2D\n",
    "from tensorflow.keras.utils import to_categorical\n",
    "from sklearn.model_selection import train_test_split\n",
    "import pydicom\n",
    "import os\n",
    "import cv2"
   ]
  },
  {
   "cell_type": "code",
   "execution_count": 38,
   "metadata": {},
   "outputs": [],
   "source": [
    "def load_dicom_images(folder_path, target_size=(128, 128)):\n",
    "    images = []\n",
    "    print(f\"Loading DICOM images from: {folder_path}\")\n",
    "    for subdir, dirs, files in os.walk(folder_path):\n",
    "        for file in files:\n",
    "            if file.endswith(\".dicom\"):\n",
    "                dicom_path = os.path.join(subdir, file)\n",
    "                try:\n",
    "                    ds = pydicom.dcmread(dicom_path)\n",
    "                    image = ds.pixel_array\n",
    "                    if len(image.shape) == 3:  # Verificar si la imagen tiene 3 canales (color)\n",
    "                        image = cv2.cvtColor(image, cv2.COLOR_BGR2GRAY)  # Convertir a escala de grises\n",
    "                    image_resized = cv2.resize(image, target_size)  # Redimensionar la imagen\n",
    "                    images.append(image_resized)\n",
    "                except Exception as e:\n",
    "                    print(f\"Error reading DICOM file {dicom_path}: {e}\")\n",
    "    print(f\"Loaded {len(images)} images from {folder_path}\")\n",
    "    return np.array(images)\n"
   ]
  },
  {
   "cell_type": "code",
   "execution_count": 39,
   "metadata": {},
   "outputs": [
    {
     "name": "stdout",
     "output_type": "stream",
     "text": [
      "Loading DICOM images from: D:\\DESK\\PATRONUS\\chllng_dicom\\images_dicom\\Disc_space_narrowing\n",
      "Loaded 50 images from D:\\DESK\\PATRONUS\\chllng_dicom\\images_dicom\\Disc_space_narrowing\n",
      "Loading DICOM images from: D:\\DESK\\PATRONUS\\chllng_dicom\\images_dicom\\Foramidal_steanosis\n",
      "Loaded 50 images from D:\\DESK\\PATRONUS\\chllng_dicom\\images_dicom\\Foramidal_steanosis\n",
      "Loading DICOM images from: D:\\DESK\\PATRONUS\\chllng_dicom\\images_dicom\\Vertebral_collapse\n",
      "Loaded 50 images from D:\\DESK\\PATRONUS\\chllng_dicom\\images_dicom\\Vertebral_collapse\n"
     ]
    }
   ],
   "source": [
    "# Rutas de las carpetas con las imágenes DICOM\n",
    "disc_space_narrowing_path = r'D:\\DESK\\PATRONUS\\chllng_dicom\\images_dicom\\Disc_space_narrowing'\n",
    "foramidal_stenosis_path = r'D:\\DESK\\PATRONUS\\chllng_dicom\\images_dicom\\Foramidal_steanosis'\n",
    "vertebral_collapse_path = r'D:\\DESK\\PATRONUS\\chllng_dicom\\images_dicom\\Vertebral_collapse'\n",
    "\n",
    "# Cargar imágenes y redimensionarlas\n",
    "images_disc_space_narrowing = load_dicom_images(disc_space_narrowing_path)\n",
    "images_foramidal_stenosis = load_dicom_images(foramidal_stenosis_path)\n",
    "images_vertebral_collapse = load_dicom_images(vertebral_collapse_path)"
   ]
  },
  {
   "cell_type": "code",
   "execution_count": 40,
   "metadata": {},
   "outputs": [],
   "source": [
    "# Seleccionar 50 imágenes de cada enfermedad\n",
    "images_disc_space_narrowing = images_disc_space_narrowing[:50]\n",
    "images_foramidal_stenosis = images_foramidal_stenosis[:50]\n",
    "images_vertebral_collapse = images_vertebral_collapse[:50]\n",
    "\n",
    "# Crear las etiquetas\n",
    "labels_disc_space_narrowing = np.full(50, 0)  # 0 para disc space narrowing\n",
    "labels_foramidal_stenosis = np.full(50, 1)  # 1 para foramidal stenosis\n",
    "labels_vertebral_collapse = np.full(50, 2)  # 2 para vertebral collapse\n",
    "\n",
    "# Combinar todas las imágenes y etiquetas\n",
    "images = np.concatenate((images_disc_space_narrowing, images_foramidal_stenosis, images_vertebral_collapse), axis=0)\n",
    "labels = np.concatenate((labels_disc_space_narrowing, labels_foramidal_stenosis, labels_vertebral_collapse), axis=0)\n",
    "\n",
    "# Añadir una dimensión para el canal\n",
    "images = images[..., np.newaxis]\n",
    "\n",
    "# Normalizar las imágenes\n",
    "images = images / np.max(images)"
   ]
  },
  {
   "cell_type": "code",
   "execution_count": 41,
   "metadata": {},
   "outputs": [],
   "source": [
    "# Dividir en conjunto de entrenamiento y prueba\n",
    "X_train, X_test, y_train, y_test = train_test_split(images, labels, test_size=0.2, random_state=42)\n",
    "\n",
    "# Convertir etiquetas a formato one-hot\n",
    "y_train = to_categorical(y_train, num_classes=3)\n",
    "y_test = to_categorical(y_test, num_classes=3)\n"
   ]
  },
  {
   "cell_type": "code",
   "execution_count": 61,
   "metadata": {},
   "outputs": [],
   "source": [
    "# Crear y compilar la red neuronal de 6 capas\n",
    "model = Sequential()\n",
    "model.add(Conv2D(32, kernel_size=(3, 3), activation='relu', input_shape=(128, 128, 1)))\n",
    "model.add(MaxPooling2D(pool_size=(2, 2)))\n",
    "model.add(Conv2D(64, kernel_size=(3, 3), activation='relu'))\n",
    "model.add(MaxPooling2D(pool_size=(2, 2)))\n",
    "model.add(Flatten())\n",
    "model.add(Dense(256, activation='relu'))\n",
    "model.add(Dense(128, activation='relu'))\n",
    "model.add(Dense(64, activation='relu'))\n",
    "model.add(Dense(3, activation='softmax'))\n",
    "\n",
    "model.compile(optimizer='adam', loss='categorical_crossentropy', metrics=['accuracy'])\n"
   ]
  },
  {
   "cell_type": "code",
   "execution_count": 62,
   "metadata": {},
   "outputs": [
    {
     "name": "stdout",
     "output_type": "stream",
     "text": [
      "Epoch 1/20\n",
      "\u001b[1m3/3\u001b[0m \u001b[32m━━━━━━━━━━━━━━━━━━━━\u001b[0m\u001b[37m\u001b[0m \u001b[1m3s\u001b[0m 324ms/step - accuracy: 0.3424 - loss: 1.1172 - val_accuracy: 0.2083 - val_loss: 1.0964\n",
      "Epoch 2/20\n",
      "\u001b[1m3/3\u001b[0m \u001b[32m━━━━━━━━━━━━━━━━━━━━\u001b[0m\u001b[37m\u001b[0m \u001b[1m1s\u001b[0m 233ms/step - accuracy: 0.3984 - loss: 1.0901 - val_accuracy: 0.2500 - val_loss: 1.0922\n",
      "Epoch 3/20\n",
      "\u001b[1m3/3\u001b[0m \u001b[32m━━━━━━━━━━━━━━━━━━━━\u001b[0m\u001b[37m\u001b[0m \u001b[1m1s\u001b[0m 230ms/step - accuracy: 0.4154 - loss: 1.0624 - val_accuracy: 0.2083 - val_loss: 1.0860\n",
      "Epoch 4/20\n",
      "\u001b[1m3/3\u001b[0m \u001b[32m━━━━━━━━━━━━━━━━━━━━\u001b[0m\u001b[37m\u001b[0m \u001b[1m1s\u001b[0m 237ms/step - accuracy: 0.3854 - loss: 1.0602 - val_accuracy: 0.3333 - val_loss: 1.0832\n",
      "Epoch 5/20\n",
      "\u001b[1m3/3\u001b[0m \u001b[32m━━━━━━━━━━━━━━━━━━━━\u001b[0m\u001b[37m\u001b[0m \u001b[1m1s\u001b[0m 225ms/step - accuracy: 0.4596 - loss: 1.0381 - val_accuracy: 0.4167 - val_loss: 1.0699\n",
      "Epoch 6/20\n",
      "\u001b[1m3/3\u001b[0m \u001b[32m━━━━━━━━━━━━━━━━━━━━\u001b[0m\u001b[37m\u001b[0m \u001b[1m1s\u001b[0m 230ms/step - accuracy: 0.5417 - loss: 1.0138 - val_accuracy: 0.4583 - val_loss: 1.0662\n",
      "Epoch 7/20\n",
      "\u001b[1m3/3\u001b[0m \u001b[32m━━━━━━━━━━━━━━━━━━━━\u001b[0m\u001b[37m\u001b[0m \u001b[1m1s\u001b[0m 243ms/step - accuracy: 0.5755 - loss: 0.9718 - val_accuracy: 0.5000 - val_loss: 1.0084\n",
      "Epoch 8/20\n",
      "\u001b[1m3/3\u001b[0m \u001b[32m━━━━━━━━━━━━━━━━━━━━\u001b[0m\u001b[37m\u001b[0m \u001b[1m1s\u001b[0m 259ms/step - accuracy: 0.6250 - loss: 0.8953 - val_accuracy: 0.5417 - val_loss: 0.8652\n",
      "Epoch 9/20\n",
      "\u001b[1m3/3\u001b[0m \u001b[32m━━━━━━━━━━━━━━━━━━━━\u001b[0m\u001b[37m\u001b[0m \u001b[1m1s\u001b[0m 241ms/step - accuracy: 0.5820 - loss: 0.8683 - val_accuracy: 0.5417 - val_loss: 0.7565\n",
      "Epoch 10/20\n",
      "\u001b[1m3/3\u001b[0m \u001b[32m━━━━━━━━━━━━━━━━━━━━\u001b[0m\u001b[37m\u001b[0m \u001b[1m1s\u001b[0m 232ms/step - accuracy: 0.6628 - loss: 0.7637 - val_accuracy: 0.6250 - val_loss: 0.6740\n",
      "Epoch 11/20\n",
      "\u001b[1m3/3\u001b[0m \u001b[32m━━━━━━━━━━━━━━━━━━━━\u001b[0m\u001b[37m\u001b[0m \u001b[1m1s\u001b[0m 240ms/step - accuracy: 0.6484 - loss: 0.7239 - val_accuracy: 0.6250 - val_loss: 0.6624\n",
      "Epoch 12/20\n",
      "\u001b[1m3/3\u001b[0m \u001b[32m━━━━━━━━━━━━━━━━━━━━\u001b[0m\u001b[37m\u001b[0m \u001b[1m1s\u001b[0m 238ms/step - accuracy: 0.6784 - loss: 0.6597 - val_accuracy: 0.7083 - val_loss: 0.5575\n",
      "Epoch 13/20\n",
      "\u001b[1m3/3\u001b[0m \u001b[32m━━━━━━━━━━━━━━━━━━━━\u001b[0m\u001b[37m\u001b[0m \u001b[1m1s\u001b[0m 228ms/step - accuracy: 0.7448 - loss: 0.5864 - val_accuracy: 0.6250 - val_loss: 0.7557\n",
      "Epoch 14/20\n",
      "\u001b[1m3/3\u001b[0m \u001b[32m━━━━━━━━━━━━━━━━━━━━\u001b[0m\u001b[37m\u001b[0m \u001b[1m1s\u001b[0m 243ms/step - accuracy: 0.7305 - loss: 0.5483 - val_accuracy: 0.7083 - val_loss: 0.6019\n",
      "Epoch 15/20\n",
      "\u001b[1m3/3\u001b[0m \u001b[32m━━━━━━━━━━━━━━━━━━━━\u001b[0m\u001b[37m\u001b[0m \u001b[1m1s\u001b[0m 233ms/step - accuracy: 0.8086 - loss: 0.5069 - val_accuracy: 0.5833 - val_loss: 0.7434\n",
      "Epoch 16/20\n",
      "\u001b[1m3/3\u001b[0m \u001b[32m━━━━━━━━━━━━━━━━━━━━\u001b[0m\u001b[37m\u001b[0m \u001b[1m1s\u001b[0m 235ms/step - accuracy: 0.8060 - loss: 0.5015 - val_accuracy: 0.5833 - val_loss: 0.7866\n",
      "Epoch 17/20\n",
      "\u001b[1m3/3\u001b[0m \u001b[32m━━━━━━━━━━━━━━━━━━━━\u001b[0m\u001b[37m\u001b[0m \u001b[1m1s\u001b[0m 230ms/step - accuracy: 0.8021 - loss: 0.4371 - val_accuracy: 0.6667 - val_loss: 0.7556\n",
      "Epoch 18/20\n",
      "\u001b[1m3/3\u001b[0m \u001b[32m━━━━━━━━━━━━━━━━━━━━\u001b[0m\u001b[37m\u001b[0m \u001b[1m1s\u001b[0m 249ms/step - accuracy: 0.8268 - loss: 0.4449 - val_accuracy: 0.6250 - val_loss: 0.9630\n",
      "Epoch 19/20\n",
      "\u001b[1m3/3\u001b[0m \u001b[32m━━━━━━━━━━━━━━━━━━━━\u001b[0m\u001b[37m\u001b[0m \u001b[1m1s\u001b[0m 258ms/step - accuracy: 0.8424 - loss: 0.3776 - val_accuracy: 0.7083 - val_loss: 0.8366\n",
      "Epoch 20/20\n",
      "\u001b[1m3/3\u001b[0m \u001b[32m━━━━━━━━━━━━━━━━━━━━\u001b[0m\u001b[37m\u001b[0m \u001b[1m1s\u001b[0m 262ms/step - accuracy: 0.8685 - loss: 0.3441 - val_accuracy: 0.5833 - val_loss: 1.2029\n",
      "\u001b[1m1/1\u001b[0m \u001b[32m━━━━━━━━━━━━━━━━━━━━\u001b[0m\u001b[37m\u001b[0m \u001b[1m0s\u001b[0m 76ms/step - accuracy: 0.5000 - loss: 2.0517\n",
      "Loss: 2.0517079830169678\n",
      "Accuracy: 0.5\n"
     ]
    }
   ],
   "source": [
    "# Entrenar el modelo\n",
    "model.fit(X_train, y_train, epochs=20, batch_size=32, validation_split=0.2)\n",
    "\n",
    "# Evaluar el modelo\n",
    "loss, accuracy = model.evaluate(X_test, y_test)\n",
    "print(f'Loss: {loss}')\n",
    "print(f'Accuracy: {accuracy}')"
   ]
  }
 ],
 "metadata": {
  "kernelspec": {
   "display_name": "Python 3",
   "language": "python",
   "name": "python3"
  },
  "language_info": {
   "codemirror_mode": {
    "name": "ipython",
    "version": 3
   },
   "file_extension": ".py",
   "mimetype": "text/x-python",
   "name": "python",
   "nbconvert_exporter": "python",
   "pygments_lexer": "ipython3",
   "version": "3.10.2"
  }
 },
 "nbformat": 4,
 "nbformat_minor": 2
}
